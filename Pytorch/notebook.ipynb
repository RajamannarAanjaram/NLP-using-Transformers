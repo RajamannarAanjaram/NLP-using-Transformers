{
  "nbformat": 4,
  "nbformat_minor": 0,
  "metadata": {
    "colab": {
      "name": "pytorch.ipynb",
      "provenance": []
    },
    "kernelspec": {
      "name": "python395jvsc74a57bd0c691166a24ed9c39f60c51b04417b963a4167aea5f4d5b8abf0eadd12714e395",
      "display_name": "Python 3.9.5  ('.venv': venv)"
    },
    "language_info": {
      "name": "python",
      "version": "3.9.5"
    },
    "accelerator": "GPU",
    "widgets": {
      "application/vnd.jupyter.widget-state+json": {
        "b9e790046e2c4fd3a6d620f305048bdd": {
          "model_module": "@jupyter-widgets/controls",
          "model_name": "HBoxModel",
          "state": {
            "_view_name": "HBoxView",
            "_dom_classes": [],
            "_model_name": "HBoxModel",
            "_view_module": "@jupyter-widgets/controls",
            "_model_module_version": "1.5.0",
            "_view_count": null,
            "_view_module_version": "1.5.0",
            "box_style": "",
            "layout": "IPY_MODEL_30ec3820b7884cec8147cb99f98d5669",
            "_model_module": "@jupyter-widgets/controls",
            "children": [
              "IPY_MODEL_a09575ca21f84e1dbd64c0f6d966d734",
              "IPY_MODEL_5073c897630942479ddef858d16d03cb"
            ]
          }
        },
        "30ec3820b7884cec8147cb99f98d5669": {
          "model_module": "@jupyter-widgets/base",
          "model_name": "LayoutModel",
          "state": {
            "_view_name": "LayoutView",
            "grid_template_rows": null,
            "right": null,
            "justify_content": null,
            "_view_module": "@jupyter-widgets/base",
            "overflow": null,
            "_model_module_version": "1.2.0",
            "_view_count": null,
            "flex_flow": null,
            "width": null,
            "min_width": null,
            "border": null,
            "align_items": null,
            "bottom": null,
            "_model_module": "@jupyter-widgets/base",
            "top": null,
            "grid_column": null,
            "overflow_y": null,
            "overflow_x": null,
            "grid_auto_flow": null,
            "grid_area": null,
            "grid_template_columns": null,
            "flex": null,
            "_model_name": "LayoutModel",
            "justify_items": null,
            "grid_row": null,
            "max_height": null,
            "align_content": null,
            "visibility": null,
            "align_self": null,
            "height": null,
            "min_height": null,
            "padding": null,
            "grid_auto_rows": null,
            "grid_gap": null,
            "max_width": null,
            "order": null,
            "_view_module_version": "1.2.0",
            "grid_template_areas": null,
            "object_position": null,
            "object_fit": null,
            "grid_auto_columns": null,
            "margin": null,
            "display": null,
            "left": null
          }
        },
        "a09575ca21f84e1dbd64c0f6d966d734": {
          "model_module": "@jupyter-widgets/controls",
          "model_name": "FloatProgressModel",
          "state": {
            "_view_name": "ProgressView",
            "style": "IPY_MODEL_3cb5a93cc567406bb1bbafd1a34e3044",
            "_dom_classes": [],
            "description": "",
            "_model_name": "FloatProgressModel",
            "bar_style": "success",
            "max": 9912422,
            "_view_module": "@jupyter-widgets/controls",
            "_model_module_version": "1.5.0",
            "value": 9912422,
            "_view_count": null,
            "_view_module_version": "1.5.0",
            "orientation": "horizontal",
            "min": 0,
            "description_tooltip": null,
            "_model_module": "@jupyter-widgets/controls",
            "layout": "IPY_MODEL_011ff55ab91a4dc5855df7302c0a1e30"
          }
        },
        "5073c897630942479ddef858d16d03cb": {
          "model_module": "@jupyter-widgets/controls",
          "model_name": "HTMLModel",
          "state": {
            "_view_name": "HTMLView",
            "style": "IPY_MODEL_8767d6b5720049169cfa5e1316e23d1d",
            "_dom_classes": [],
            "description": "",
            "_model_name": "HTMLModel",
            "placeholder": "​",
            "_view_module": "@jupyter-widgets/controls",
            "_model_module_version": "1.5.0",
            "value": " 9913344/? [09:17&lt;00:00, 17778.03it/s]",
            "_view_count": null,
            "_view_module_version": "1.5.0",
            "description_tooltip": null,
            "_model_module": "@jupyter-widgets/controls",
            "layout": "IPY_MODEL_8a9ecada0bfa49d0899e9aeb04ee8f6e"
          }
        },
        "3cb5a93cc567406bb1bbafd1a34e3044": {
          "model_module": "@jupyter-widgets/controls",
          "model_name": "ProgressStyleModel",
          "state": {
            "_view_name": "StyleView",
            "_model_name": "ProgressStyleModel",
            "description_width": "initial",
            "_view_module": "@jupyter-widgets/base",
            "_model_module_version": "1.5.0",
            "_view_count": null,
            "_view_module_version": "1.2.0",
            "bar_color": null,
            "_model_module": "@jupyter-widgets/controls"
          }
        },
        "011ff55ab91a4dc5855df7302c0a1e30": {
          "model_module": "@jupyter-widgets/base",
          "model_name": "LayoutModel",
          "state": {
            "_view_name": "LayoutView",
            "grid_template_rows": null,
            "right": null,
            "justify_content": null,
            "_view_module": "@jupyter-widgets/base",
            "overflow": null,
            "_model_module_version": "1.2.0",
            "_view_count": null,
            "flex_flow": null,
            "width": null,
            "min_width": null,
            "border": null,
            "align_items": null,
            "bottom": null,
            "_model_module": "@jupyter-widgets/base",
            "top": null,
            "grid_column": null,
            "overflow_y": null,
            "overflow_x": null,
            "grid_auto_flow": null,
            "grid_area": null,
            "grid_template_columns": null,
            "flex": null,
            "_model_name": "LayoutModel",
            "justify_items": null,
            "grid_row": null,
            "max_height": null,
            "align_content": null,
            "visibility": null,
            "align_self": null,
            "height": null,
            "min_height": null,
            "padding": null,
            "grid_auto_rows": null,
            "grid_gap": null,
            "max_width": null,
            "order": null,
            "_view_module_version": "1.2.0",
            "grid_template_areas": null,
            "object_position": null,
            "object_fit": null,
            "grid_auto_columns": null,
            "margin": null,
            "display": null,
            "left": null
          }
        },
        "8767d6b5720049169cfa5e1316e23d1d": {
          "model_module": "@jupyter-widgets/controls",
          "model_name": "DescriptionStyleModel",
          "state": {
            "_view_name": "StyleView",
            "_model_name": "DescriptionStyleModel",
            "description_width": "",
            "_view_module": "@jupyter-widgets/base",
            "_model_module_version": "1.5.0",
            "_view_count": null,
            "_view_module_version": "1.2.0",
            "_model_module": "@jupyter-widgets/controls"
          }
        },
        "8a9ecada0bfa49d0899e9aeb04ee8f6e": {
          "model_module": "@jupyter-widgets/base",
          "model_name": "LayoutModel",
          "state": {
            "_view_name": "LayoutView",
            "grid_template_rows": null,
            "right": null,
            "justify_content": null,
            "_view_module": "@jupyter-widgets/base",
            "overflow": null,
            "_model_module_version": "1.2.0",
            "_view_count": null,
            "flex_flow": null,
            "width": null,
            "min_width": null,
            "border": null,
            "align_items": null,
            "bottom": null,
            "_model_module": "@jupyter-widgets/base",
            "top": null,
            "grid_column": null,
            "overflow_y": null,
            "overflow_x": null,
            "grid_auto_flow": null,
            "grid_area": null,
            "grid_template_columns": null,
            "flex": null,
            "_model_name": "LayoutModel",
            "justify_items": null,
            "grid_row": null,
            "max_height": null,
            "align_content": null,
            "visibility": null,
            "align_self": null,
            "height": null,
            "min_height": null,
            "padding": null,
            "grid_auto_rows": null,
            "grid_gap": null,
            "max_width": null,
            "order": null,
            "_view_module_version": "1.2.0",
            "grid_template_areas": null,
            "object_position": null,
            "object_fit": null,
            "grid_auto_columns": null,
            "margin": null,
            "display": null,
            "left": null
          }
        },
        "7e4ec93d3eee4f758642a784ed8ddaf3": {
          "model_module": "@jupyter-widgets/controls",
          "model_name": "HBoxModel",
          "state": {
            "_view_name": "HBoxView",
            "_dom_classes": [],
            "_model_name": "HBoxModel",
            "_view_module": "@jupyter-widgets/controls",
            "_model_module_version": "1.5.0",
            "_view_count": null,
            "_view_module_version": "1.5.0",
            "box_style": "",
            "layout": "IPY_MODEL_281d560b48754b59a2b8c0d140436cb7",
            "_model_module": "@jupyter-widgets/controls",
            "children": [
              "IPY_MODEL_f40ceb7cd0604977a2e492b9b44e1730",
              "IPY_MODEL_c0ab7c471fbd400c9b71f11d7724cd97"
            ]
          }
        },
        "281d560b48754b59a2b8c0d140436cb7": {
          "model_module": "@jupyter-widgets/base",
          "model_name": "LayoutModel",
          "state": {
            "_view_name": "LayoutView",
            "grid_template_rows": null,
            "right": null,
            "justify_content": null,
            "_view_module": "@jupyter-widgets/base",
            "overflow": null,
            "_model_module_version": "1.2.0",
            "_view_count": null,
            "flex_flow": null,
            "width": null,
            "min_width": null,
            "border": null,
            "align_items": null,
            "bottom": null,
            "_model_module": "@jupyter-widgets/base",
            "top": null,
            "grid_column": null,
            "overflow_y": null,
            "overflow_x": null,
            "grid_auto_flow": null,
            "grid_area": null,
            "grid_template_columns": null,
            "flex": null,
            "_model_name": "LayoutModel",
            "justify_items": null,
            "grid_row": null,
            "max_height": null,
            "align_content": null,
            "visibility": null,
            "align_self": null,
            "height": null,
            "min_height": null,
            "padding": null,
            "grid_auto_rows": null,
            "grid_gap": null,
            "max_width": null,
            "order": null,
            "_view_module_version": "1.2.0",
            "grid_template_areas": null,
            "object_position": null,
            "object_fit": null,
            "grid_auto_columns": null,
            "margin": null,
            "display": null,
            "left": null
          }
        },
        "f40ceb7cd0604977a2e492b9b44e1730": {
          "model_module": "@jupyter-widgets/controls",
          "model_name": "FloatProgressModel",
          "state": {
            "_view_name": "ProgressView",
            "style": "IPY_MODEL_00e71853ff7141b6b45812fba83abc43",
            "_dom_classes": [],
            "description": "",
            "_model_name": "FloatProgressModel",
            "bar_style": "success",
            "max": 28881,
            "_view_module": "@jupyter-widgets/controls",
            "_model_module_version": "1.5.0",
            "value": 28881,
            "_view_count": null,
            "_view_module_version": "1.5.0",
            "orientation": "horizontal",
            "min": 0,
            "description_tooltip": null,
            "_model_module": "@jupyter-widgets/controls",
            "layout": "IPY_MODEL_ad8497211ed74e3aa53ccd486cd27d28"
          }
        },
        "c0ab7c471fbd400c9b71f11d7724cd97": {
          "model_module": "@jupyter-widgets/controls",
          "model_name": "HTMLModel",
          "state": {
            "_view_name": "HTMLView",
            "style": "IPY_MODEL_1159412da7e549ca9f9ed63dbd94a2a7",
            "_dom_classes": [],
            "description": "",
            "_model_name": "HTMLModel",
            "placeholder": "​",
            "_view_module": "@jupyter-widgets/controls",
            "_model_module_version": "1.5.0",
            "value": " 29696/? [00:36&lt;00:00, 811.67it/s]",
            "_view_count": null,
            "_view_module_version": "1.5.0",
            "description_tooltip": null,
            "_model_module": "@jupyter-widgets/controls",
            "layout": "IPY_MODEL_c8363c7e37454d138b4e6ad56ed2b07d"
          }
        },
        "00e71853ff7141b6b45812fba83abc43": {
          "model_module": "@jupyter-widgets/controls",
          "model_name": "ProgressStyleModel",
          "state": {
            "_view_name": "StyleView",
            "_model_name": "ProgressStyleModel",
            "description_width": "initial",
            "_view_module": "@jupyter-widgets/base",
            "_model_module_version": "1.5.0",
            "_view_count": null,
            "_view_module_version": "1.2.0",
            "bar_color": null,
            "_model_module": "@jupyter-widgets/controls"
          }
        },
        "ad8497211ed74e3aa53ccd486cd27d28": {
          "model_module": "@jupyter-widgets/base",
          "model_name": "LayoutModel",
          "state": {
            "_view_name": "LayoutView",
            "grid_template_rows": null,
            "right": null,
            "justify_content": null,
            "_view_module": "@jupyter-widgets/base",
            "overflow": null,
            "_model_module_version": "1.2.0",
            "_view_count": null,
            "flex_flow": null,
            "width": null,
            "min_width": null,
            "border": null,
            "align_items": null,
            "bottom": null,
            "_model_module": "@jupyter-widgets/base",
            "top": null,
            "grid_column": null,
            "overflow_y": null,
            "overflow_x": null,
            "grid_auto_flow": null,
            "grid_area": null,
            "grid_template_columns": null,
            "flex": null,
            "_model_name": "LayoutModel",
            "justify_items": null,
            "grid_row": null,
            "max_height": null,
            "align_content": null,
            "visibility": null,
            "align_self": null,
            "height": null,
            "min_height": null,
            "padding": null,
            "grid_auto_rows": null,
            "grid_gap": null,
            "max_width": null,
            "order": null,
            "_view_module_version": "1.2.0",
            "grid_template_areas": null,
            "object_position": null,
            "object_fit": null,
            "grid_auto_columns": null,
            "margin": null,
            "display": null,
            "left": null
          }
        },
        "1159412da7e549ca9f9ed63dbd94a2a7": {
          "model_module": "@jupyter-widgets/controls",
          "model_name": "DescriptionStyleModel",
          "state": {
            "_view_name": "StyleView",
            "_model_name": "DescriptionStyleModel",
            "description_width": "",
            "_view_module": "@jupyter-widgets/base",
            "_model_module_version": "1.5.0",
            "_view_count": null,
            "_view_module_version": "1.2.0",
            "_model_module": "@jupyter-widgets/controls"
          }
        },
        "c8363c7e37454d138b4e6ad56ed2b07d": {
          "model_module": "@jupyter-widgets/base",
          "model_name": "LayoutModel",
          "state": {
            "_view_name": "LayoutView",
            "grid_template_rows": null,
            "right": null,
            "justify_content": null,
            "_view_module": "@jupyter-widgets/base",
            "overflow": null,
            "_model_module_version": "1.2.0",
            "_view_count": null,
            "flex_flow": null,
            "width": null,
            "min_width": null,
            "border": null,
            "align_items": null,
            "bottom": null,
            "_model_module": "@jupyter-widgets/base",
            "top": null,
            "grid_column": null,
            "overflow_y": null,
            "overflow_x": null,
            "grid_auto_flow": null,
            "grid_area": null,
            "grid_template_columns": null,
            "flex": null,
            "_model_name": "LayoutModel",
            "justify_items": null,
            "grid_row": null,
            "max_height": null,
            "align_content": null,
            "visibility": null,
            "align_self": null,
            "height": null,
            "min_height": null,
            "padding": null,
            "grid_auto_rows": null,
            "grid_gap": null,
            "max_width": null,
            "order": null,
            "_view_module_version": "1.2.0",
            "grid_template_areas": null,
            "object_position": null,
            "object_fit": null,
            "grid_auto_columns": null,
            "margin": null,
            "display": null,
            "left": null
          }
        },
        "009cf0a0022b48248d55a599f6507483": {
          "model_module": "@jupyter-widgets/controls",
          "model_name": "HBoxModel",
          "state": {
            "_view_name": "HBoxView",
            "_dom_classes": [],
            "_model_name": "HBoxModel",
            "_view_module": "@jupyter-widgets/controls",
            "_model_module_version": "1.5.0",
            "_view_count": null,
            "_view_module_version": "1.5.0",
            "box_style": "",
            "layout": "IPY_MODEL_2abe10602d5342f38c4ccd4a4257c82c",
            "_model_module": "@jupyter-widgets/controls",
            "children": [
              "IPY_MODEL_2a0f5d8993a14a8b8770c206841377be",
              "IPY_MODEL_c831f078fdd5449b9931ee49f3bc9611"
            ]
          }
        },
        "2abe10602d5342f38c4ccd4a4257c82c": {
          "model_module": "@jupyter-widgets/base",
          "model_name": "LayoutModel",
          "state": {
            "_view_name": "LayoutView",
            "grid_template_rows": null,
            "right": null,
            "justify_content": null,
            "_view_module": "@jupyter-widgets/base",
            "overflow": null,
            "_model_module_version": "1.2.0",
            "_view_count": null,
            "flex_flow": null,
            "width": null,
            "min_width": null,
            "border": null,
            "align_items": null,
            "bottom": null,
            "_model_module": "@jupyter-widgets/base",
            "top": null,
            "grid_column": null,
            "overflow_y": null,
            "overflow_x": null,
            "grid_auto_flow": null,
            "grid_area": null,
            "grid_template_columns": null,
            "flex": null,
            "_model_name": "LayoutModel",
            "justify_items": null,
            "grid_row": null,
            "max_height": null,
            "align_content": null,
            "visibility": null,
            "align_self": null,
            "height": null,
            "min_height": null,
            "padding": null,
            "grid_auto_rows": null,
            "grid_gap": null,
            "max_width": null,
            "order": null,
            "_view_module_version": "1.2.0",
            "grid_template_areas": null,
            "object_position": null,
            "object_fit": null,
            "grid_auto_columns": null,
            "margin": null,
            "display": null,
            "left": null
          }
        },
        "2a0f5d8993a14a8b8770c206841377be": {
          "model_module": "@jupyter-widgets/controls",
          "model_name": "FloatProgressModel",
          "state": {
            "_view_name": "ProgressView",
            "style": "IPY_MODEL_b9a1216972c746dd9b681f667b297f67",
            "_dom_classes": [],
            "description": "",
            "_model_name": "FloatProgressModel",
            "bar_style": "success",
            "max": 1648877,
            "_view_module": "@jupyter-widgets/controls",
            "_model_module_version": "1.5.0",
            "value": 1648877,
            "_view_count": null,
            "_view_module_version": "1.5.0",
            "orientation": "horizontal",
            "min": 0,
            "description_tooltip": null,
            "_model_module": "@jupyter-widgets/controls",
            "layout": "IPY_MODEL_dd5486ce1ec94e8db85275b58dc35a73"
          }
        },
        "c831f078fdd5449b9931ee49f3bc9611": {
          "model_module": "@jupyter-widgets/controls",
          "model_name": "HTMLModel",
          "state": {
            "_view_name": "HTMLView",
            "style": "IPY_MODEL_b0d6be47f52249da98185ccc7cd7175f",
            "_dom_classes": [],
            "description": "",
            "_model_name": "HTMLModel",
            "placeholder": "​",
            "_view_module": "@jupyter-widgets/controls",
            "_model_module_version": "1.5.0",
            "value": " 1649664/? [00:36&lt;00:00, 45647.71it/s]",
            "_view_count": null,
            "_view_module_version": "1.5.0",
            "description_tooltip": null,
            "_model_module": "@jupyter-widgets/controls",
            "layout": "IPY_MODEL_fab738f9067d43b69d58431e0bf12695"
          }
        },
        "b9a1216972c746dd9b681f667b297f67": {
          "model_module": "@jupyter-widgets/controls",
          "model_name": "ProgressStyleModel",
          "state": {
            "_view_name": "StyleView",
            "_model_name": "ProgressStyleModel",
            "description_width": "initial",
            "_view_module": "@jupyter-widgets/base",
            "_model_module_version": "1.5.0",
            "_view_count": null,
            "_view_module_version": "1.2.0",
            "bar_color": null,
            "_model_module": "@jupyter-widgets/controls"
          }
        },
        "dd5486ce1ec94e8db85275b58dc35a73": {
          "model_module": "@jupyter-widgets/base",
          "model_name": "LayoutModel",
          "state": {
            "_view_name": "LayoutView",
            "grid_template_rows": null,
            "right": null,
            "justify_content": null,
            "_view_module": "@jupyter-widgets/base",
            "overflow": null,
            "_model_module_version": "1.2.0",
            "_view_count": null,
            "flex_flow": null,
            "width": null,
            "min_width": null,
            "border": null,
            "align_items": null,
            "bottom": null,
            "_model_module": "@jupyter-widgets/base",
            "top": null,
            "grid_column": null,
            "overflow_y": null,
            "overflow_x": null,
            "grid_auto_flow": null,
            "grid_area": null,
            "grid_template_columns": null,
            "flex": null,
            "_model_name": "LayoutModel",
            "justify_items": null,
            "grid_row": null,
            "max_height": null,
            "align_content": null,
            "visibility": null,
            "align_self": null,
            "height": null,
            "min_height": null,
            "padding": null,
            "grid_auto_rows": null,
            "grid_gap": null,
            "max_width": null,
            "order": null,
            "_view_module_version": "1.2.0",
            "grid_template_areas": null,
            "object_position": null,
            "object_fit": null,
            "grid_auto_columns": null,
            "margin": null,
            "display": null,
            "left": null
          }
        },
        "b0d6be47f52249da98185ccc7cd7175f": {
          "model_module": "@jupyter-widgets/controls",
          "model_name": "DescriptionStyleModel",
          "state": {
            "_view_name": "StyleView",
            "_model_name": "DescriptionStyleModel",
            "description_width": "",
            "_view_module": "@jupyter-widgets/base",
            "_model_module_version": "1.5.0",
            "_view_count": null,
            "_view_module_version": "1.2.0",
            "_model_module": "@jupyter-widgets/controls"
          }
        },
        "fab738f9067d43b69d58431e0bf12695": {
          "model_module": "@jupyter-widgets/base",
          "model_name": "LayoutModel",
          "state": {
            "_view_name": "LayoutView",
            "grid_template_rows": null,
            "right": null,
            "justify_content": null,
            "_view_module": "@jupyter-widgets/base",
            "overflow": null,
            "_model_module_version": "1.2.0",
            "_view_count": null,
            "flex_flow": null,
            "width": null,
            "min_width": null,
            "border": null,
            "align_items": null,
            "bottom": null,
            "_model_module": "@jupyter-widgets/base",
            "top": null,
            "grid_column": null,
            "overflow_y": null,
            "overflow_x": null,
            "grid_auto_flow": null,
            "grid_area": null,
            "grid_template_columns": null,
            "flex": null,
            "_model_name": "LayoutModel",
            "justify_items": null,
            "grid_row": null,
            "max_height": null,
            "align_content": null,
            "visibility": null,
            "align_self": null,
            "height": null,
            "min_height": null,
            "padding": null,
            "grid_auto_rows": null,
            "grid_gap": null,
            "max_width": null,
            "order": null,
            "_view_module_version": "1.2.0",
            "grid_template_areas": null,
            "object_position": null,
            "object_fit": null,
            "grid_auto_columns": null,
            "margin": null,
            "display": null,
            "left": null
          }
        },
        "fd961154814f448684b8b83f745cbc50": {
          "model_module": "@jupyter-widgets/controls",
          "model_name": "HBoxModel",
          "state": {
            "_view_name": "HBoxView",
            "_dom_classes": [],
            "_model_name": "HBoxModel",
            "_view_module": "@jupyter-widgets/controls",
            "_model_module_version": "1.5.0",
            "_view_count": null,
            "_view_module_version": "1.5.0",
            "box_style": "",
            "layout": "IPY_MODEL_d30086a64a6c4ec3a26afe042b2ad048",
            "_model_module": "@jupyter-widgets/controls",
            "children": [
              "IPY_MODEL_37a7498acb6747c39775eb34208f6d4c",
              "IPY_MODEL_b9ec84bcbf7b4fb6b53ade554e434e6b"
            ]
          }
        },
        "d30086a64a6c4ec3a26afe042b2ad048": {
          "model_module": "@jupyter-widgets/base",
          "model_name": "LayoutModel",
          "state": {
            "_view_name": "LayoutView",
            "grid_template_rows": null,
            "right": null,
            "justify_content": null,
            "_view_module": "@jupyter-widgets/base",
            "overflow": null,
            "_model_module_version": "1.2.0",
            "_view_count": null,
            "flex_flow": null,
            "width": null,
            "min_width": null,
            "border": null,
            "align_items": null,
            "bottom": null,
            "_model_module": "@jupyter-widgets/base",
            "top": null,
            "grid_column": null,
            "overflow_y": null,
            "overflow_x": null,
            "grid_auto_flow": null,
            "grid_area": null,
            "grid_template_columns": null,
            "flex": null,
            "_model_name": "LayoutModel",
            "justify_items": null,
            "grid_row": null,
            "max_height": null,
            "align_content": null,
            "visibility": null,
            "align_self": null,
            "height": null,
            "min_height": null,
            "padding": null,
            "grid_auto_rows": null,
            "grid_gap": null,
            "max_width": null,
            "order": null,
            "_view_module_version": "1.2.0",
            "grid_template_areas": null,
            "object_position": null,
            "object_fit": null,
            "grid_auto_columns": null,
            "margin": null,
            "display": null,
            "left": null
          }
        },
        "37a7498acb6747c39775eb34208f6d4c": {
          "model_module": "@jupyter-widgets/controls",
          "model_name": "FloatProgressModel",
          "state": {
            "_view_name": "ProgressView",
            "style": "IPY_MODEL_095323a2095d4e188e060da9b50fedf2",
            "_dom_classes": [],
            "description": "",
            "_model_name": "FloatProgressModel",
            "bar_style": "success",
            "max": 4542,
            "_view_module": "@jupyter-widgets/controls",
            "_model_module_version": "1.5.0",
            "value": 4542,
            "_view_count": null,
            "_view_module_version": "1.5.0",
            "orientation": "horizontal",
            "min": 0,
            "description_tooltip": null,
            "_model_module": "@jupyter-widgets/controls",
            "layout": "IPY_MODEL_6ed55e5904804651b51833409d6df47b"
          }
        },
        "b9ec84bcbf7b4fb6b53ade554e434e6b": {
          "model_module": "@jupyter-widgets/controls",
          "model_name": "HTMLModel",
          "state": {
            "_view_name": "HTMLView",
            "style": "IPY_MODEL_0d8d31c8a4cc4a90abab560c58982ab7",
            "_dom_classes": [],
            "description": "",
            "_model_name": "HTMLModel",
            "placeholder": "​",
            "_view_module": "@jupyter-widgets/controls",
            "_model_module_version": "1.5.0",
            "value": " 5120/? [04:25&lt;00:00, 19.26it/s]",
            "_view_count": null,
            "_view_module_version": "1.5.0",
            "description_tooltip": null,
            "_model_module": "@jupyter-widgets/controls",
            "layout": "IPY_MODEL_fa0aa1ac8ea14e7eb6aa01c7d014b87a"
          }
        },
        "095323a2095d4e188e060da9b50fedf2": {
          "model_module": "@jupyter-widgets/controls",
          "model_name": "ProgressStyleModel",
          "state": {
            "_view_name": "StyleView",
            "_model_name": "ProgressStyleModel",
            "description_width": "initial",
            "_view_module": "@jupyter-widgets/base",
            "_model_module_version": "1.5.0",
            "_view_count": null,
            "_view_module_version": "1.2.0",
            "bar_color": null,
            "_model_module": "@jupyter-widgets/controls"
          }
        },
        "6ed55e5904804651b51833409d6df47b": {
          "model_module": "@jupyter-widgets/base",
          "model_name": "LayoutModel",
          "state": {
            "_view_name": "LayoutView",
            "grid_template_rows": null,
            "right": null,
            "justify_content": null,
            "_view_module": "@jupyter-widgets/base",
            "overflow": null,
            "_model_module_version": "1.2.0",
            "_view_count": null,
            "flex_flow": null,
            "width": null,
            "min_width": null,
            "border": null,
            "align_items": null,
            "bottom": null,
            "_model_module": "@jupyter-widgets/base",
            "top": null,
            "grid_column": null,
            "overflow_y": null,
            "overflow_x": null,
            "grid_auto_flow": null,
            "grid_area": null,
            "grid_template_columns": null,
            "flex": null,
            "_model_name": "LayoutModel",
            "justify_items": null,
            "grid_row": null,
            "max_height": null,
            "align_content": null,
            "visibility": null,
            "align_self": null,
            "height": null,
            "min_height": null,
            "padding": null,
            "grid_auto_rows": null,
            "grid_gap": null,
            "max_width": null,
            "order": null,
            "_view_module_version": "1.2.0",
            "grid_template_areas": null,
            "object_position": null,
            "object_fit": null,
            "grid_auto_columns": null,
            "margin": null,
            "display": null,
            "left": null
          }
        },
        "0d8d31c8a4cc4a90abab560c58982ab7": {
          "model_module": "@jupyter-widgets/controls",
          "model_name": "DescriptionStyleModel",
          "state": {
            "_view_name": "StyleView",
            "_model_name": "DescriptionStyleModel",
            "description_width": "",
            "_view_module": "@jupyter-widgets/base",
            "_model_module_version": "1.5.0",
            "_view_count": null,
            "_view_module_version": "1.2.0",
            "_model_module": "@jupyter-widgets/controls"
          }
        },
        "fa0aa1ac8ea14e7eb6aa01c7d014b87a": {
          "model_module": "@jupyter-widgets/base",
          "model_name": "LayoutModel",
          "state": {
            "_view_name": "LayoutView",
            "grid_template_rows": null,
            "right": null,
            "justify_content": null,
            "_view_module": "@jupyter-widgets/base",
            "overflow": null,
            "_model_module_version": "1.2.0",
            "_view_count": null,
            "flex_flow": null,
            "width": null,
            "min_width": null,
            "border": null,
            "align_items": null,
            "bottom": null,
            "_model_module": "@jupyter-widgets/base",
            "top": null,
            "grid_column": null,
            "overflow_y": null,
            "overflow_x": null,
            "grid_auto_flow": null,
            "grid_area": null,
            "grid_template_columns": null,
            "flex": null,
            "_model_name": "LayoutModel",
            "justify_items": null,
            "grid_row": null,
            "max_height": null,
            "align_content": null,
            "visibility": null,
            "align_self": null,
            "height": null,
            "min_height": null,
            "padding": null,
            "grid_auto_rows": null,
            "grid_gap": null,
            "max_width": null,
            "order": null,
            "_view_module_version": "1.2.0",
            "grid_template_areas": null,
            "object_position": null,
            "object_fit": null,
            "grid_auto_columns": null,
            "margin": null,
            "display": null,
            "left": null
          }
        }
      }
    }
  },
  "cells": [
    {
      "cell_type": "code",
      "metadata": {
        "id": "AVbY9RiFvf9T"
      },
      "source": [
        "# Standard Library Imports\n",
        "\n",
        "import torch\n",
        "import torchvision\n",
        "import warnings\n",
        "import torch.nn as nn\n",
        "import torch.nn.functional as F\n",
        "from torch import optim\n",
        "import torchvision.transforms as transforms\n",
        "from torch.utils.data.dataset import random_split\n",
        "import matplotlib.pyplot as plt\n",
        "from numpy.random import randint\n",
        "\n",
        "\n",
        "warnings.filterwarnings('ignore')"
      ],
      "execution_count": 1,
      "outputs": []
    },
    {
      "cell_type": "markdown",
      "metadata": {
        "id": "5khE2WrmlEAh"
      },
      "source": [
        "## Dataset Loader"
      ]
    },
    {
      "cell_type": "code",
      "metadata": {
        "colab": {
          "base_uri": "https://localhost:8080/",
          "height": 545,
          "referenced_widgets": [
            "b9e790046e2c4fd3a6d620f305048bdd",
            "30ec3820b7884cec8147cb99f98d5669",
            "a09575ca21f84e1dbd64c0f6d966d734",
            "5073c897630942479ddef858d16d03cb",
            "3cb5a93cc567406bb1bbafd1a34e3044",
            "011ff55ab91a4dc5855df7302c0a1e30",
            "8767d6b5720049169cfa5e1316e23d1d",
            "8a9ecada0bfa49d0899e9aeb04ee8f6e",
            "7e4ec93d3eee4f758642a784ed8ddaf3",
            "281d560b48754b59a2b8c0d140436cb7",
            "f40ceb7cd0604977a2e492b9b44e1730",
            "c0ab7c471fbd400c9b71f11d7724cd97",
            "00e71853ff7141b6b45812fba83abc43",
            "ad8497211ed74e3aa53ccd486cd27d28",
            "1159412da7e549ca9f9ed63dbd94a2a7",
            "c8363c7e37454d138b4e6ad56ed2b07d",
            "009cf0a0022b48248d55a599f6507483",
            "2abe10602d5342f38c4ccd4a4257c82c",
            "2a0f5d8993a14a8b8770c206841377be",
            "c831f078fdd5449b9931ee49f3bc9611",
            "b9a1216972c746dd9b681f667b297f67",
            "dd5486ce1ec94e8db85275b58dc35a73",
            "b0d6be47f52249da98185ccc7cd7175f",
            "fab738f9067d43b69d58431e0bf12695",
            "fd961154814f448684b8b83f745cbc50",
            "d30086a64a6c4ec3a26afe042b2ad048",
            "37a7498acb6747c39775eb34208f6d4c",
            "b9ec84bcbf7b4fb6b53ade554e434e6b",
            "095323a2095d4e188e060da9b50fedf2",
            "6ed55e5904804651b51833409d6df47b",
            "0d8d31c8a4cc4a90abab560c58982ab7",
            "fa0aa1ac8ea14e7eb6aa01c7d014b87a"
          ]
        },
        "id": "CSFEFIVeUwNB",
        "outputId": "eb015f0f-23c7-40ad-a360-974154f289af"
      },
      "source": [
        "# Download MNIST Training\n",
        "dataset = torchvision.datasets.MNIST(root= './data',\n",
        "                                       train= True,\n",
        "                                       download= True,\n",
        "                                       transform= transforms.Compose([\n",
        "                                                                      transforms.ToTensor()\n",
        "                                       ]))\n",
        "# Download MNIST TEST\n",
        "test_set = torchvision.datasets.MNIST(root='./data',\n",
        "                                      train=False,\n",
        "                                      download=True,\n",
        "                                      transform=transforms.Compose([\n",
        "                                                                    transforms.ToTensor()\n",
        "                                      ]))\n",
        "\n",
        "print('MNIST Dataset loading done')"
      ],
      "execution_count": 3,
      "outputs": [
        {
          "output_type": "stream",
          "name": "stdout",
          "text": [
            "MNIST Dataset loading done\n"
          ]
        }
      ]
    },
    {
      "cell_type": "code",
      "metadata": {
        "id": "Ba9AUUD1U3on"
      },
      "source": [
        "# Split to 80-20 for train-valid\n",
        "lengths = [int(len(dataset)*0.8), int(len(dataset)*0.2)]\n",
        "train_set, val_set = random_split(dataset, lengths)\n",
        "print(f'Dataset split size:{lengths}')"
      ],
      "execution_count": 6,
      "outputs": [
        {
          "output_type": "stream",
          "name": "stdout",
          "text": [
            "Dataset split size:[48000, 12000]\n"
          ]
        }
      ]
    },
    {
      "cell_type": "code",
      "metadata": {
        "id": "iNa-5Y4xtnI1"
      },
      "source": [
        "# Hyper-parameter Initialisation\n",
        "batch_size=128\n",
        "# Load MNIST Train Data Loader\n",
        "train_loader = torch.utils.data.DataLoader(train_set,\n",
        "                                            batch_size= batch_size,\n",
        "                                            shuffle= True,\n",
        "                                            drop_last=True,\n",
        "                                          pin_memory=True)\n",
        "\n",
        "# Load MNIST Validation Data Loader\n",
        "val_loader = torch.utils.data.DataLoader(val_set,\n",
        "                                            batch_size= batch_size,\n",
        "                                            shuffle= True,\n",
        "                                            drop_last=True,\n",
        "                                            pin_memory=True)\n",
        "\n",
        "# Load MNIST Test Data Loader\n",
        "test_loader = torch.utils.data.DataLoader(test_set,\n",
        "                                          batch_size=batch_size,\n",
        "                                          shuffle=True,\n",
        "                                          pin_memory=True,\n",
        "                                          drop_last=True)"
      ],
      "execution_count": 7,
      "outputs": []
    },
    {
      "cell_type": "code",
      "metadata": {
        "colab": {
          "base_uri": "https://localhost:8080/"
        },
        "id": "6tXnpWopttHV",
        "outputId": "ae7e89f1-eef4-4d6b-d9f0-5f238a47cf07"
      },
      "source": [
        "# Check Data for Each Class\n",
        "\n",
        "print(\"Class & Data For Training Set : \")\n",
        "print(dataset.targets.unique())\n",
        "print(dataset.targets.bincount())\n",
        "print()\n",
        "\n",
        "print(\"Class & Data For Test Set : \")\n",
        "print(test_set.targets.unique())\n",
        "print(test_set.targets.bincount())\n"
      ],
      "execution_count": 8,
      "outputs": [
        {
          "output_type": "stream",
          "name": "stdout",
          "text": [
            "Class & Data For Training Set : \ntensor([0, 1, 2, 3, 4, 5, 6, 7, 8, 9])\ntensor([5923, 6742, 5958, 6131, 5842, 5421, 5918, 6265, 5851, 5949])\n\nClass & Data For Test Set : \ntensor([0, 1, 2, 3, 4, 5, 6, 7, 8, 9])\ntensor([ 980, 1135, 1032, 1010,  982,  892,  958, 1028,  974, 1009])\n"
          ]
        }
      ]
    },
    {
      "cell_type": "markdown",
      "metadata": {
        "id": "ZhUwxlo0l_FG"
      },
      "source": [
        "## Model Architecture"
      ]
    },
    {
      "cell_type": "code",
      "metadata": {
        "id": "doFQM9BQtxXW"
      },
      "source": [
        "\n",
        "# Defining the Model Architecture\n",
        "\n",
        "class Network(nn.Module):\n",
        "  def __init__(self):\n",
        "    super().__init__()\n",
        "    self.conv1 = nn.Conv2d(in_channels=1,out_channels=16,kernel_size=3)\n",
        "    self.conv2 = nn.Conv2d(in_channels=16,out_channels=32,kernel_size=3)\n",
        "    self.conv3 = nn.Conv2d(in_channels=32,out_channels=64,kernel_size=3)\n",
        "    self.conv4 = nn.Conv2d(in_channels=64,out_channels=64,kernel_size=3)\n",
        "    self.conv5 = nn.Conv2d(in_channels=64,out_channels=64,kernel_size=3)\n",
        "    \n",
        "    self.pool1 = nn.MaxPool2d(kernel_size=2,stride=2)\n",
        "\n",
        "    self.fcl1 = nn.Linear(in_features=64*7*7,out_features=128)\n",
        "    self.emb1 = nn.Linear(in_features=128,out_features=64)\n",
        "    self.out1 = nn.Linear(in_features=64, out_features=10) # Output of the MNIST Image\n",
        "\n",
        "    self.fcr1 = nn.Linear(in_features=74,out_features=128)\n",
        "    self.emb2 = nn.Linear(in_features=128, out_features=256)\n",
        "    self.out2 = nn.Linear(in_features=256, out_features=19) # Output of the Random Addition\n",
        "\n",
        "  def forward(self,x1, x2):\n",
        "    x1 = F.relu(self.conv2(F.relu(self.conv1(x1))))\n",
        "    x1 = self.pool1(F.relu(self.conv3(x1)))\n",
        "    x1 = F.relu(self.conv5(F.relu(self.conv4(x1))))\n",
        "    x1 = x1.reshape(-1, 64*7*7)\n",
        "    x1 = F.relu(self.fcl1(x1))\n",
        "    x1 = F.relu(self.emb1(x1)) # Penulitmate Layer patterns/weights/embeddings\n",
        "    out1 = self.out1(x1) # MNIST Prediction\n",
        "\n",
        "    # Mix embeddings from the mnist convolutions\n",
        "    combined = torch.cat([x1,x2], dim=1)  # Concatenating the Radom Input along Dim 1\n",
        "\n",
        "    x2 = F.relu(self.fcr1(combined)) # FC layers for learning addition\n",
        "    x2 = F.relu(self.emb2(x2))\n",
        "    out2 = self.out2(x2)\n",
        "   \n",
        "    final_out = torch.cat([out1, out2], dim=1)\n",
        "\n",
        "    return final_out"
      ],
      "execution_count": 9,
      "outputs": []
    },
    {
      "cell_type": "markdown",
      "metadata": {
        "id": "-2cB5h5BoDWZ"
      },
      "source": [
        "### Prediction of Final Layers"
      ]
    },
    {
      "cell_type": "code",
      "metadata": {
        "id": "VSP-fNrPt2vS"
      },
      "source": [
        "## prediction class\n",
        "def class_predicted(preds, num_labels, sum_labels):\n",
        "    num_preds = preds[:, :10]\n",
        "    sum_preds = preds[:, 10:]   \n",
        "    \n",
        "    correct = torch.logical_and(num_preds.argmax(dim=1).eq(num_labels), sum_preds.argmax(dim=1).eq(sum_labels)).sum().item()\n",
        "    \n",
        "    return correct"
      ],
      "execution_count": 10,
      "outputs": []
    },
    {
      "cell_type": "markdown",
      "metadata": {
        "id": "1hVzXtJgmVpi"
      },
      "source": [
        "### Loss Function"
      ]
    },
    {
      "cell_type": "code",
      "metadata": {
        "id": "C4j_Vw7-matV"
      },
      "source": [
        "def custom_loss(preds, img_labels, sum_labels):\n",
        "    num = preds[:, :10]\n",
        "    sum = preds[:, 10:]\n",
        "\n",
        "    num = F.log_softmax(num, dim=1)\n",
        "    sum = F.log_softmax(sum, dim=1)\n",
        "    \n",
        "    num_loss = torch.nn.NLLLoss()(num, img_labels)\n",
        "    sum_loss = torch.nn.NLLLoss()(sum, sum_labels)\n",
        "\n",
        "    loss = num_loss + sum_loss\n",
        "\n",
        "    return loss"
      ],
      "execution_count": 11,
      "outputs": []
    },
    {
      "cell_type": "markdown",
      "metadata": {
        "id": "OQBjsf2Cmczv"
      },
      "source": [
        "### Training Loop"
      ]
    },
    {
      "cell_type": "code",
      "metadata": {
        "id": "thRe4PUlt29k"
      },
      "source": [
        "def train_and_eval(model, train_loader, val_loader, optimizer, criterion, num_epoch, device):\n",
        "  train_losses = []\n",
        "  val_losses = []\n",
        "  for epoch in range(num_epoch):\n",
        "    for split in [\"train\", \"val\"]:\n",
        "        if split == \"train\":\n",
        "            train_loss= 0\n",
        "            train_correct= 0\n",
        "            model.train()\n",
        "            for images, labels in train_loader:\n",
        "                optimizer.zero_grad()\n",
        "\n",
        "                # MNIST Input & Label\n",
        "                images = images.to(device)\n",
        "                labels = labels.to(device)\n",
        "                #   one_hot_labels = F.one_hot(labels, num_classes=10)\n",
        "\n",
        "                # Create Random Number Input & Label \n",
        "                random_num = torch.randint(low=0, high=9, size=(batch_size,))\n",
        "                random_num = random_num.to(device)\n",
        "                random_inp = F.one_hot(random_num, num_classes=10)\n",
        "                random_inp = random_inp.type(torch.float32)\n",
        "                sum_labels = labels + random_num  \n",
        "                #   one_hot_random = F.one_hot(random_labels, num_classes=18)\n",
        "                random_inp = random_inp.to(device)\n",
        "                \n",
        "                # Forward Pass\n",
        "                preds = model(images, random_inp)\n",
        "                loss = criterion(preds, labels, sum_labels)\n",
        "                \n",
        "                optimizer.zero_grad()\n",
        "                loss.backward()\n",
        "                optimizer.step()\n",
        "\n",
        "                train_loss += loss.item()\n",
        "                train_correct += class_predicted(preds, labels, sum_labels)\n",
        "\n",
        "            print(f'Epoch:{epoch}\\t {split.upper()}\\t Correct Prediction:{train_correct}/{int(0.8*len(dataset))} \\t Loss:{train_loss}')\n",
        "            train_losses.append(train_loss)\n",
        "\n",
        "        if split == \"val\":\n",
        "            model.eval()\n",
        "            val_loss = 0\n",
        "            val_correct = 0\n",
        "            for images, labels in val_loader:\n",
        "                # MNIST Input & Label\n",
        "                images = images.to(device)\n",
        "                labels = labels.to(device)\n",
        "                #   one_hot_labels = F.one_hot(labels, num_classes=10)\n",
        "\n",
        "                # Create Random Number Input & Label \n",
        "                random_num = torch.randint(low=0, high=9, size=(batch_size,))\n",
        "                random_num = random_num.to(device)\n",
        "                random_inp = F.one_hot(random_num, num_classes=10)\n",
        "                random_inp = random_inp.type(torch.float32)\n",
        "                sum_labels = labels + random_num  \n",
        "                #   one_hot_random = F.one_hot(random_labels, num_classes=18)\n",
        "                \n",
        "                random_inp = random_inp.to(device)\n",
        "\n",
        "                with torch.no_grad():\n",
        "                    preds = model(images, random_inp)                    \n",
        "                    loss = criterion(preds, labels, sum_labels)\n",
        "\n",
        "                    val_loss += loss.item()\n",
        "                    val_correct += class_predicted(preds, labels, sum_labels)\n",
        "\n",
        "            print(f'Epoch:{epoch}\\t {split.upper()}\\t Correct Prediction:{val_correct}/{int(0.2*len(dataset))} \\t Loss:{val_loss}\\n')\n",
        "            print(\"==\"*10)\n",
        "            val_losses.append(val_loss)\n",
        "\n",
        "  return model, train_losses, val_losses"
      ],
      "execution_count": 12,
      "outputs": []
    },
    {
      "cell_type": "markdown",
      "metadata": {
        "id": "u-ocJ6eYnAnj"
      },
      "source": [
        "## Model Initialisation & Training"
      ]
    },
    {
      "cell_type": "code",
      "execution_count": 13,
      "metadata": {},
      "outputs": [
        {
          "output_type": "stream",
          "name": "stdout",
          "text": [
            "cuda:0\n",
            "Is model on GPU?  True\n"
          ]
        }
      ],
      "source": [
        "# Model Initialisation\n",
        "device = torch.device('cuda:0' if torch.cuda.is_available() else 'cpu')\n",
        "print(device)\n",
        "model= Network()\n",
        "model = model.train()\n",
        "model = model.to(device)\n",
        "\n",
        "print('Is model on GPU? ',next(model.parameters()).is_cuda)   ## check if model is moved to GPU"
      ]
    },
    {
      "cell_type": "code",
      "metadata": {
        "colab": {
          "base_uri": "https://localhost:8080/"
        },
        "id": "1C9NGP9hm0Lc",
        "outputId": "21142144-2410-415d-ba3a-a4bdb9cef434"
      },
      "source": [
        "# Hyper-parameter Initialisation\n",
        "batch_size=128\n",
        "lr=0.003\n",
        "num_epoch=20\n",
        "optimizer = optim.Adam(model.parameters(),lr=lr)\n",
        "\n",
        "# Training\n",
        "finalWeights, train_losses, val_losses = train_and_eval(model, train_loader, val_loader, optimizer, custom_loss, num_epoch, device)\n",
        "\n",
        "print(f\"Training Accuracy: {round((47817/48000)*100, 2)}%\")\n",
        "print(f\"Validation Accuracy: {round((11773/12000)*100, 2)}%\")\n"
      ],
      "execution_count": 14,
      "outputs": [
        {
          "output_type": "stream",
          "text": [
            "cuda:0\n",
            "Is model on GPU?  True\n",
            "Epoch:0\t TRAIN\t Correct Prediction:30106/48000 \t Loss:489.8511267565191\n",
            "Epoch:0\t VAL\t Correct Prediction:11572/12000 \t Loss:17.24329100549221\n",
            "\n",
            "====================\n",
            "Epoch:1\t TRAIN\t Correct Prediction:46999/48000 \t Loss:52.36955614387989\n",
            "Epoch:1\t VAL\t Correct Prediction:11687/12000 \t Loss:10.387892739847302\n",
            "\n",
            "====================\n",
            "Epoch:2\t TRAIN\t Correct Prediction:47372/48000 \t Loss:32.09655133262277\n",
            "Epoch:2\t VAL\t Correct Prediction:11742/12000 \t Loss:7.891992194578052\n",
            "\n",
            "====================\n",
            "Epoch:3\t TRAIN\t Correct Prediction:47446/48000 \t Loss:26.006397395394742\n",
            "Epoch:3\t VAL\t Correct Prediction:11738/12000 \t Loss:9.153558249818161\n",
            "\n",
            "====================\n",
            "Epoch:4\t TRAIN\t Correct Prediction:47532/48000 \t Loss:22.361036259215325\n",
            "Epoch:4\t VAL\t Correct Prediction:11725/12000 \t Loss:9.842007659375668\n",
            "\n",
            "====================\n",
            "Epoch:5\t TRAIN\t Correct Prediction:47574/48000 \t Loss:19.261629713349976\n",
            "Epoch:5\t VAL\t Correct Prediction:11786/12000 \t Loss:7.376086459029466\n",
            "\n",
            "====================\n",
            "Epoch:6\t TRAIN\t Correct Prediction:47655/48000 \t Loss:16.18299133097753\n",
            "Epoch:6\t VAL\t Correct Prediction:11700/12000 \t Loss:11.80275383265689\n",
            "\n",
            "====================\n",
            "Epoch:7\t TRAIN\t Correct Prediction:47641/48000 \t Loss:16.59774077660404\n",
            "Epoch:7\t VAL\t Correct Prediction:11742/12000 \t Loss:9.120920339366421\n",
            "\n",
            "====================\n",
            "Epoch:8\t TRAIN\t Correct Prediction:47720/48000 \t Loss:12.451384601474274\n",
            "Epoch:8\t VAL\t Correct Prediction:11734/12000 \t Loss:9.93087122682482\n",
            "\n",
            "====================\n",
            "Epoch:9\t TRAIN\t Correct Prediction:47709/48000 \t Loss:13.666506580077112\n",
            "Epoch:9\t VAL\t Correct Prediction:11759/12000 \t Loss:8.874092090525664\n",
            "\n",
            "====================\n",
            "Epoch:10\t TRAIN\t Correct Prediction:47737/48000 \t Loss:12.82384952067514\n",
            "Epoch:10\t VAL\t Correct Prediction:11789/12000 \t Loss:7.278427062265109\n",
            "\n",
            "====================\n",
            "Epoch:11\t TRAIN\t Correct Prediction:47765/48000 \t Loss:11.257602699712152\n",
            "Epoch:11\t VAL\t Correct Prediction:11750/12000 \t Loss:10.062924214173108\n",
            "\n",
            "====================\n",
            "Epoch:12\t TRAIN\t Correct Prediction:47763/48000 \t Loss:11.245582903153263\n",
            "Epoch:12\t VAL\t Correct Prediction:11752/12000 \t Loss:10.372109373478452\n",
            "\n",
            "====================\n",
            "Epoch:13\t TRAIN\t Correct Prediction:47805/48000 \t Loss:8.825875586248003\n",
            "Epoch:13\t VAL\t Correct Prediction:11740/12000 \t Loss:12.250784480187576\n",
            "\n",
            "====================\n",
            "Epoch:14\t TRAIN\t Correct Prediction:47807/48000 \t Loss:9.59931086517463\n",
            "Epoch:14\t VAL\t Correct Prediction:11775/12000 \t Loss:9.241124497028068\n",
            "\n",
            "====================\n",
            "Epoch:15\t TRAIN\t Correct Prediction:47790/48000 \t Loss:9.904423067448079\n",
            "Epoch:15\t VAL\t Correct Prediction:11711/12000 \t Loss:13.126361697213724\n",
            "\n",
            "====================\n",
            "Epoch:16\t TRAIN\t Correct Prediction:47792/48000 \t Loss:9.877323295615497\n",
            "Epoch:16\t VAL\t Correct Prediction:11774/12000 \t Loss:8.382123734336346\n",
            "\n",
            "====================\n",
            "Epoch:17\t TRAIN\t Correct Prediction:47873/48000 \t Loss:6.485747237558826\n",
            "Epoch:17\t VAL\t Correct Prediction:11775/12000 \t Loss:10.01646953157615\n",
            "\n",
            "====================\n",
            "Epoch:18\t TRAIN\t Correct Prediction:47832/48000 \t Loss:7.892552048229845\n",
            "Epoch:18\t VAL\t Correct Prediction:11767/12000 \t Loss:9.454519598046318\n",
            "\n",
            "====================\n",
            "Epoch:19\t TRAIN\t Correct Prediction:47885/48000 \t Loss:5.139216966999811\n",
            "Epoch:19\t VAL\t Correct Prediction:11770/12000 \t Loss:10.073364923009649\n",
            "\n",
            "====================\n",
            "Training Accuracy: 99.62%\n",
            "Validation Accuracy: 98.11%\n"
          ],
          "name": "stdout"
        }
      ]
    },
    {
      "cell_type": "markdown",
      "metadata": {
        "id": "HcwpGXOjnawk"
      },
      "source": [
        "## Model Evaluation"
      ]
    },
    {
      "cell_type": "code",
      "metadata": {
        "colab": {
          "base_uri": "https://localhost:8080/",
          "height": 483
        },
        "id": "qXulYOfxx2y4",
        "outputId": "64cb2462-6a27-4315-bab7-438404f6c57c"
      },
      "source": [
        "# Track & Plot Losses\n",
        "\n",
        "import matplotlib.pyplot as plt\n",
        "plt.figure(figsize=(15,8))\n",
        "plt.plot(train_losses, color=\"red\", label=\"Train Loss\")\n",
        "plt.plot(val_losses, color=\"green\", label=\"Test Loss\")\n",
        "plt.legend()\n",
        "plt.show()"
      ],
      "execution_count": 15,
      "outputs": [
        {
          "output_type": "display_data",
          "data": {
            "image/png": "[encoded data removed]",
            "text/plain": [
              "<Figure size 1080x576 with 1 Axes>"
            ]
          },
          "metadata": {
            "tags": [],
            "needs_background": "light"
          }
        }
      ]
    },
    {
      "cell_type": "code",
      "metadata": {
        "colab": {
          "base_uri": "https://localhost:8080/"
        },
        "id": "xStxRMpA4qmn",
        "outputId": "6ec5d69a-8bca-4325-c39f-af0755a6c5ac"
      },
      "source": [
        "# Track on Test Set\n",
        "\n",
        "model.eval()\n",
        "test_loss = 0\n",
        "test_correct = 0\n",
        "for images, labels in test_loader:\n",
        "    images = images.to(device)\n",
        "    labels = labels.to(device)\n",
        "    #   one_hot_labels = F.one_hot(labels, num_classes=10)\n",
        "\n",
        "    random_num = torch.randint(low=0, high=9, size=(batch_size,))\n",
        "    random_num = random_num.to(device)\n",
        "    random_inp = F.one_hot(random_num, num_classes=10)\n",
        "    random_inp = random_inp.type(torch.float32)\n",
        "    sum_labels = labels + random_num  \n",
        "    #   one_hot_random = F.one_hot(random_labels, num_classes=18)\n",
        "    \n",
        "    random_inp = random_inp.to(device)\n",
        "\n",
        "    with torch.no_grad():\n",
        "        preds = model(images, random_inp)                    \n",
        "        test_correct += class_predicted(preds, labels, sum_labels)\n",
        "\n",
        "print(f'{\"TEST\"}\\t Correct Predictions:{test_correct}/{int(len(test_set))}\\n')\n",
        "print(f\"Accuracy: {test_correct/int(len(test_set))*100}%\")\n",
        "print(\"==\"*10)\n"
      ],
      "execution_count": 16,
      "outputs": [
        {
          "output_type": "stream",
          "text": [
            "TEST\t Correct Predictions:9868/10000\n",
            "\n",
            "Accuracy: 98.68%\n",
            "====================\n"
          ],
          "name": "stdout"
        }
      ]
    },
    {
      "cell_type": "code",
      "metadata": {
        "colab": {
          "base_uri": "https://localhost:8080/"
        },
        "id": "gmRyfiEft6NJ",
        "outputId": "982c3f90-4cc0-4050-a342-e3d31449bb25"
      },
      "source": [
        "# Single Item Inference/Prediction\n",
        "\n",
        "def test_one_item():\n",
        "    batch = next(iter(test_loader))\n",
        "    images,label = batch\n",
        "    images = images.to(device)[0].unsqueeze(dim=0)\n",
        "    label = label.to(device)[0].unsqueeze(dim=0)\n",
        "\n",
        "    random_num = torch.randint(low=0, high=9, size=(1,))\n",
        "    random_num = random_num.to(device)\n",
        "    random_inp = F.one_hot(random_num, num_classes=10)\n",
        "    random_inp = random_inp.type(torch.float32)\n",
        "    sum_labels = label + random_num \n",
        "    print(f\"MNIST number: {label.item()}\")\n",
        "    print(f\"Random number: {random_num.item()}\")\n",
        "    print(f\"Sum: {sum_labels.item()}\")\n",
        "\n",
        "    print(\"=\"*10)\n",
        "    global model\n",
        "    with torch.no_grad():\n",
        "        model = model.eval()\n",
        "        preds = model(images, random_inp)\n",
        "        num, sum = preds[:,:10], preds[:, 10:]\n",
        "    print(f\"Predicted Number {torch.argmax(num)}\")\n",
        "    print(f\"Predicted Sum {torch.argmax(sum)}\")\n",
        "\n",
        "# Single Prediction/Inference\n",
        "test_one_item()"
      ],
      "execution_count": 17,
      "outputs": [
        {
          "output_type": "stream",
          "text": [
            "MNIST number: 4\n",
            "Random number: 4\n",
            "Sum: 8\n",
            "==========\n",
            "Predicted Number 4\n",
            "Predicted Sum 8\n"
          ],
          "name": "stdout"
        }
      ]
    },
    {
      "cell_type": "code",
      "metadata": {
        "id": "uYYvm242d7Fl"
      },
      "source": [],
      "execution_count": null,
      "outputs": []
    }
  ]
}