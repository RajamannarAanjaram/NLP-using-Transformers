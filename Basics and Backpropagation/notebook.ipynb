{
 "cells": [
  {
   "cell_type": "code",
   "execution_count": 43,
   "metadata": {},
   "outputs": [],
   "source": [
    "import torch\n",
    "from torchsummary import summary\n",
    "import warnings\n",
    "\n",
    "warnings.filterwarnings('ignore')"
   ]
  },
  {
   "cell_type": "code",
   "execution_count": 46,
   "metadata": {},
   "outputs": [],
   "source": [
    "from src.models import XOR\n",
    "from src.dataloader import XOR_weights_init\n",
    "from src.train import *"
   ]
  },
  {
   "cell_type": "code",
   "execution_count": 133,
   "metadata": {},
   "outputs": [
    {
     "name": "stdout",
     "output_type": "stream",
     "text": [
      "XOR(\n",
      "  (lin1): Linear(in_features=2, out_features=5, bias=True)\n",
      "  (lin2): Linear(in_features=5, out_features=4, bias=True)\n",
      "  (lin3): Linear(in_features=4, out_features=1, bias=True)\n",
      ")\n"
     ]
    }
   ],
   "source": [
    "model = XOR()\n",
    "print(model)"
   ]
  },
  {
   "cell_type": "code",
   "execution_count": 134,
   "metadata": {
    "scrolled": true
   },
   "outputs": [
    {
     "name": "stdout",
     "output_type": "stream",
     "text": [
      "----------------------------------------------------------------\n",
      "        Layer (type)               Output Shape         Param #\n",
      "================================================================\n",
      "            Linear-1                    [-1, 5]              15\n",
      "            Linear-2                    [-1, 4]              24\n",
      "            Linear-3                    [-1, 1]               5\n",
      "================================================================\n",
      "Total params: 44\n",
      "Trainable params: 44\n",
      "Non-trainable params: 0\n",
      "----------------------------------------------------------------\n",
      "Input size (MB): 0.00\n",
      "Forward/backward pass size (MB): 0.00\n",
      "Params size (MB): 0.00\n",
      "Estimated Total Size (MB): 0.00\n",
      "----------------------------------------------------------------\n"
     ]
    }
   ],
   "source": [
    "summary(model, (2,))"
   ]
  },
  {
   "cell_type": "code",
   "execution_count": 135,
   "metadata": {},
   "outputs": [],
   "source": [
    "X = torch.Tensor([[0, 0], [0, 1], [1, 0], [1, 1]])\n",
    "Y = torch.Tensor([0, 1, 1, 0]).view(-1, 1)"
   ]
  },
  {
   "cell_type": "code",
   "execution_count": 136,
   "metadata": {},
   "outputs": [],
   "source": [
    "XOR_weights_init(model)"
   ]
  },
  {
   "cell_type": "code",
   "execution_count": 137,
   "metadata": {},
   "outputs": [
    {
     "name": "stdout",
     "output_type": "stream",
     "text": [
      "Parameter containing:\n",
      "tensor([[ 0.4695,  0.5565],\n",
      "        [ 1.2026, -0.0230],\n",
      "        [-0.4813, -1.0190],\n",
      "        [ 2.3466, -0.4679],\n",
      "        [ 2.1102, -0.9591]], requires_grad=True)\n",
      "Parameter containing:\n",
      "tensor([ 0.2665, -0.2179, -0.0635,  0.1505,  0.3399], requires_grad=True)\n",
      "Parameter containing:\n",
      "tensor([[-0.7559,  0.2280,  1.4137, -1.1880, -0.8524],\n",
      "        [ 0.2864, -0.2139, -0.7492, -0.5393,  0.4296],\n",
      "        [-0.8712, -0.6346,  0.5067,  1.0927,  1.2096],\n",
      "        [ 1.8963, -0.5460, -0.2441, -1.4945, -0.1910]], requires_grad=True)\n",
      "Parameter containing:\n",
      "tensor([ 0.3599, -0.3621, -0.0880,  0.1859], requires_grad=True)\n",
      "Parameter containing:\n",
      "tensor([[-0.1567,  0.6433, -1.3445, -0.1789]], requires_grad=True)\n",
      "Parameter containing:\n",
      "tensor([-0.0328], requires_grad=True)\n"
     ]
    }
   ],
   "source": [
    "for i in model.parameters():\n",
    "    print(i)"
   ]
  },
  {
   "cell_type": "code",
   "execution_count": 139,
   "metadata": {
    "scrolled": true
   },
   "outputs": [
    {
     "name": "stdout",
     "output_type": "stream",
     "text": [
      "Epoch: 0, Loss: 0.4999694526195526, \n",
      "Epoch: 50, Loss: 0.010788977146148682, \n",
      "Epoch: 100, Loss: 0.29012930393218994, \n",
      "Epoch: 150, Loss: 0.05014169216156006, \n",
      "Epoch: 200, Loss: 0.005144000053405762, \n",
      "Epoch: 250, Loss: 0.09362256526947021, \n",
      "Epoch: 300, Loss: 0.07384943962097168, \n",
      "Epoch: 350, Loss: 0.24671411514282227, \n",
      "Epoch: 400, Loss: 0.07530450820922852, \n",
      "Epoch: 450, Loss: 0.11173248291015625, \n",
      "Epoch: 500, Loss: 0.19386684894561768, \n",
      "Epoch: 550, Loss: 0.04457557201385498, \n",
      "Epoch: 600, Loss: 0.08513343334197998, \n",
      "Epoch: 650, Loss: 0.06022578477859497, \n",
      "Epoch: 700, Loss: 0.5702915191650391, \n",
      "Epoch: 750, Loss: 0.016708433628082275, \n",
      "Epoch: 800, Loss: 0.02219313383102417, \n",
      "Epoch: 850, Loss: 0.0005142688751220703, \n",
      "Epoch: 900, Loss: 0.15464657545089722, \n",
      "Epoch: 950, Loss: 0.0053064823150634766, \n",
      "Epoch: 1000, Loss: 0.7382036447525024, \n",
      "Epoch: 1050, Loss: 0.11855697631835938, \n",
      "Epoch: 1100, Loss: 0.3361349105834961, \n",
      "Epoch: 1150, Loss: 0.36813414096832275, \n",
      "Epoch: 1200, Loss: 0.06223654747009277, \n",
      "Epoch: 1250, Loss: 0.04825186729431152, \n",
      "Epoch: 1300, Loss: 0.09575748443603516, \n",
      "Epoch: 1350, Loss: 0.016637682914733887, \n",
      "Epoch: 1400, Loss: 0.08449602127075195, \n",
      "Epoch: 1450, Loss: 0.06749832630157471, \n",
      "Epoch: 1500, Loss: 0.04107046127319336, \n",
      "Epoch: 1550, Loss: 0.19928789138793945, \n",
      "Epoch: 1600, Loss: 0.058796048164367676, \n",
      "Epoch: 1650, Loss: 0.12289571762084961, \n",
      "Epoch: 1700, Loss: 0.13924747705459595, \n",
      "Epoch: 1750, Loss: 0.4380325675010681, \n",
      "Epoch: 1800, Loss: 0.046593308448791504, \n",
      "Epoch: 1850, Loss: 0.13338994979858398, \n",
      "Epoch: 1900, Loss: 0.31945645809173584, \n",
      "Epoch: 1950, Loss: 0.014524102210998535, \n",
      "Epoch: 2000, Loss: 0.26683592796325684, \n"
     ]
    }
   ],
   "source": [
    "train_XOR(model,X,Y, epoch=2001, lr=0.02, momentum=0.9)"
   ]
  },
  {
   "cell_type": "code",
   "execution_count": null,
   "metadata": {},
   "outputs": [],
   "source": []
  }
 ],
 "metadata": {
  "interpreter": {
   "hash": "85b631ce94146d7c42a3410b4266edc5c54a62a043defef5a971208d0913d804"
  },
  "kernelspec": {
   "display_name": "Python 3 (ipykernel)",
   "language": "python",
   "name": "python3"
  },
  "language_info": {
   "codemirror_mode": {
    "name": "ipython",
    "version": 3
   },
   "file_extension": ".py",
   "mimetype": "text/x-python",
   "name": "python",
   "nbconvert_exporter": "python",
   "pygments_lexer": "ipython3",
   "version": "3.8.8"
  }
 },
 "nbformat": 4,
 "nbformat_minor": 2
}
